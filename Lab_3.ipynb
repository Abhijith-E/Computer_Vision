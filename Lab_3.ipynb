{
  "cells": [
    {
      "cell_type": "code",
      "execution_count": 1,
      "metadata": {
        "id": "FTpEkIkCdQ3y"
      },
      "outputs": [],
      "source": [
        "import cv2\n",
        "import numpy as np\n",
        "import matplotlib.pyplot as plt"
      ]
    },
    {
      "cell_type": "code",
      "execution_count": 2,
      "metadata": {
        "id": "SOlkOA7pepUs"
      },
      "outputs": [],
      "source": [
        "def plot_images(original, processed, title1='Original', title2='Processed'):\n",
        "    plt.figure(figsize=(10, 5))\n",
        "    plt.subplot(121), plt.imshow(original, cmap='gray'), plt.title(title1)\n",
        "    plt.subplot(122), plt.imshow(processed, cmap='gray'), plt.title(title2)\n",
        "    plt.show()"
      ]
    },
    {
      "cell_type": "code",
      "execution_count": 3,
      "metadata": {
        "id": "eYOgXkqRepWJ"
      },
      "outputs": [],
      "source": [
        "# 1. Isolated Point Detection using Laplacian\n",
        "def detect_isolated_points(image_path):\n",
        "    img = cv2.imread(image_path)\n",
        "    gray = cv2.cvtColor(img, cv2.COLOR_BGR2GRAY)\n",
        "\n",
        "    # Laplacian kernel for point detection\n",
        "    kernel = np.array([[-1,-1,-1],\n",
        "                       [-1, 8,-1],\n",
        "                       [-1,-1,-1]])\n",
        "    filtered = cv2.filter2D(gray, -1, kernel)\n",
        "    abs_filtered = cv2.convertScaleAbs(filtered)\n",
        "\n",
        "    # Thresholding to detect isolated points\n",
        "    _, thresholded = cv2.threshold(abs_filtered, 150, 255, cv2.THRESH_BINARY)\n",
        "    plot_images(gray, thresholded, 'Original', 'Isolated Points')"
      ]
    },
    {
      "cell_type": "code",
      "execution_count": 4,
      "metadata": {
        "id": "taV9cbCVepZN"
      },
      "outputs": [],
      "source": [
        "# 2. Image Negative\n",
        "def image_negative(image_path):\n",
        "    img = cv2.imread(image_path)\n",
        "\n",
        "    # For color images\n",
        "    if len(img.shape) == 3:\n",
        "        negative = 255 - img\n",
        "    # For grayscale/binary\n",
        "    else:\n",
        "        negative = 255 - img\n",
        "\n",
        "    plot_images(img, negative, 'Original', 'Negative')"
      ]
    },
    {
      "cell_type": "code",
      "execution_count": 5,
      "metadata": {
        "id": "wetGnZrsepcB"
      },
      "outputs": [],
      "source": [
        "# 3. Contrast Stretching\n",
        "def contrast_stretch(image_path):\n",
        "    gray = cv2.imread(image_path, 0)\n",
        "    min_val = np.min(gray)\n",
        "    max_val = np.max(gray)\n",
        "\n",
        "    stretched = (gray.astype(np.float32) - min_val) * (255.0 / (max_val - min_val))\n",
        "    stretched = stretched.astype(np.uint8)\n",
        "\n",
        "    # Comparison with Histogram Equalization\n",
        "    eq = cv2.equalizeHist(gray)\n",
        "    plt.figure(figsize=(15,5))\n",
        "    plt.subplot(131), plt.imshow(gray, cmap='gray'), plt.title('Original')\n",
        "    plt.subplot(132), plt.imshow(stretched, cmap='gray'), plt.title('Contrast Stretched')\n",
        "    plt.subplot(133), plt.imshow(eq, cmap='gray'), plt.title('Histogram Equalized')\n",
        "    plt.show()"
      ]
    },
    {
      "cell_type": "code",
      "execution_count": 6,
      "metadata": {
        "id": "hj4fmvGfe-C0"
      },
      "outputs": [],
      "source": [
        "# 4. Gray Level Slicing\n",
        "def gray_level_slicing(image_path, lower=100, upper=200):\n",
        "    gray = cv2.imread(image_path, 0)\n",
        "\n",
        "    # Highlight specific range while preserving background\n",
        "    mask = (gray >= lower) & (gray <= upper)\n",
        "    sliced = gray.copy()\n",
        "    sliced[mask] = 255\n",
        "\n",
        "    plot_images(gray, sliced, 'Original', 'Gray Level Sliced')"
      ]
    },
    {
      "cell_type": "code",
      "execution_count": 7,
      "metadata": {
        "id": "G1WLUc1WfB9Y"
      },
      "outputs": [],
      "source": [
        "# 5. Bit Plane Slicing\n",
        "def bit_plane_slicing(image_path):\n",
        "    gray = cv2.imread(image_path, 0)\n",
        "\n",
        "    plt.figure(figsize=(15, 10))\n",
        "    for i in range(8):\n",
        "        plane = (gray >> i) & 1\n",
        "        plane = plane * 255\n",
        "        plt.subplot(2,4,i+1)\n",
        "        plt.imshow(plane, cmap='gray')\n",
        "        plt.title(f'Bit Plane {7-i}')\n",
        "    plt.show()"
      ]
    },
    {
      "cell_type": "code",
      "execution_count": 8,
      "metadata": {
        "id": "V3_dW44HfFGn"
      },
      "outputs": [],
      "source": [
        "# 6. Histogram Equalization\n",
        "def enhance_xray(image_path):\n",
        "    xray = cv2.imread(image_path, 0)\n",
        "\n",
        "    # Global Histogram Equalization\n",
        "    global_eq = cv2.equalizeHist(xray)\n",
        "\n",
        "    # Adaptive Histogram Equalization (CLAHE)\n",
        "    clahe = cv2.createCLAHE(clipLimit=2.0, tileGridSize=(8,8))\n",
        "    adaptive_eq = clahe.apply(xray)\n",
        "\n",
        "    plt.figure(figsize=(15,5))\n",
        "    plt.subplot(131), plt.imshow(xray, cmap='gray'), plt.title('Original X-ray')\n",
        "    plt.subplot(132), plt.imshow(global_eq, cmap='gray'), plt.title('Global HE')\n",
        "    plt.subplot(133), plt.imshow(adaptive_eq, cmap='gray'), plt.title('Adaptive HE')\n",
        "    plt.show()"
      ]
    },
    {
      "cell_type": "code",
      "execution_count": 9,
      "metadata": {
        "colab": {
          "base_uri": "https://localhost:8080/",
          "height": 332
        },
        "id": "GXc7pYAQfFOG",
        "outputId": "a59a0e40-b623-40bf-be90-6c852a2fe1a2"
      },
      "outputs": [
        {
          "ename": "error",
          "evalue": "OpenCV(4.11.0) D:\\a\\opencv-python\\opencv-python\\opencv\\modules\\imgproc\\src\\color.cpp:199: error: (-215:Assertion failed) !_src.empty() in function 'cv::cvtColor'\n",
          "output_type": "error",
          "traceback": [
            "\u001b[1;31m---------------------------------------------------------------------------\u001b[0m",
            "\u001b[1;31merror\u001b[0m                                     Traceback (most recent call last)",
            "Cell \u001b[1;32mIn[9], line 8\u001b[0m\n\u001b[0;32m      5\u001b[0m xray_image \u001b[38;5;241m=\u001b[39m \u001b[38;5;124m'\u001b[39m\u001b[38;5;124mxray.jpg\u001b[39m\u001b[38;5;124m'\u001b[39m\n\u001b[0;32m      6\u001b[0m fingerprint_image \u001b[38;5;241m=\u001b[39m \u001b[38;5;124m'\u001b[39m\u001b[38;5;124mfingerprint.jpg\u001b[39m\u001b[38;5;124m'\u001b[39m\n\u001b[1;32m----> 8\u001b[0m \u001b[43mdetect_isolated_points\u001b[49m\u001b[43m(\u001b[49m\u001b[43mgeneral_image\u001b[49m\u001b[43m)\u001b[49m\n\u001b[0;32m      9\u001b[0m image_negative(general_image)\n\u001b[0;32m     10\u001b[0m contrast_stretch(general_image)\n",
            "Cell \u001b[1;32mIn[3], line 4\u001b[0m, in \u001b[0;36mdetect_isolated_points\u001b[1;34m(image_path)\u001b[0m\n\u001b[0;32m      2\u001b[0m \u001b[38;5;28;01mdef\u001b[39;00m\u001b[38;5;250m \u001b[39m\u001b[38;5;21mdetect_isolated_points\u001b[39m(image_path):\n\u001b[0;32m      3\u001b[0m     img \u001b[38;5;241m=\u001b[39m cv2\u001b[38;5;241m.\u001b[39mimread(image_path)\n\u001b[1;32m----> 4\u001b[0m     gray \u001b[38;5;241m=\u001b[39m \u001b[43mcv2\u001b[49m\u001b[38;5;241;43m.\u001b[39;49m\u001b[43mcvtColor\u001b[49m\u001b[43m(\u001b[49m\u001b[43mimg\u001b[49m\u001b[43m,\u001b[49m\u001b[43m \u001b[49m\u001b[43mcv2\u001b[49m\u001b[38;5;241;43m.\u001b[39;49m\u001b[43mCOLOR_BGR2GRAY\u001b[49m\u001b[43m)\u001b[49m\n\u001b[0;32m      6\u001b[0m     \u001b[38;5;66;03m# Laplacian kernel for point detection\u001b[39;00m\n\u001b[0;32m      7\u001b[0m     kernel \u001b[38;5;241m=\u001b[39m np\u001b[38;5;241m.\u001b[39marray([[\u001b[38;5;241m-\u001b[39m\u001b[38;5;241m1\u001b[39m,\u001b[38;5;241m-\u001b[39m\u001b[38;5;241m1\u001b[39m,\u001b[38;5;241m-\u001b[39m\u001b[38;5;241m1\u001b[39m],\n\u001b[0;32m      8\u001b[0m                        [\u001b[38;5;241m-\u001b[39m\u001b[38;5;241m1\u001b[39m, \u001b[38;5;241m8\u001b[39m,\u001b[38;5;241m-\u001b[39m\u001b[38;5;241m1\u001b[39m],\n\u001b[0;32m      9\u001b[0m                        [\u001b[38;5;241m-\u001b[39m\u001b[38;5;241m1\u001b[39m,\u001b[38;5;241m-\u001b[39m\u001b[38;5;241m1\u001b[39m,\u001b[38;5;241m-\u001b[39m\u001b[38;5;241m1\u001b[39m]])\n",
            "\u001b[1;31merror\u001b[0m: OpenCV(4.11.0) D:\\a\\opencv-python\\opencv-python\\opencv\\modules\\imgproc\\src\\color.cpp:199: error: (-215:Assertion failed) !_src.empty() in function 'cv::cvtColor'\n"
          ]
        }
      ],
      "source": [
        "# Execute all techniques\n",
        "if __name__ == \"__main__\":\n",
        "    # Replace with your image paths\n",
        "    general_image = 'boat.jpg'\n",
        "    xray_image = 'xray.jpg'\n",
        "    fingerprint_image = 'fingerprint.jpg'\n",
        "\n",
        "    detect_isolated_points(general_image)\n",
        "    image_negative(general_image)\n",
        "    contrast_stretch(general_image)\n",
        "    gray_level_slicing(general_image)\n",
        "    bit_plane_slicing(fingerprint_image)\n",
        "    enhance_xray(xray_image)"
      ]
    },
    {
      "cell_type": "code",
      "execution_count": null,
      "metadata": {
        "id": "llWtDuDqfTQu"
      },
      "outputs": [],
      "source": []
    }
  ],
  "metadata": {
    "colab": {
      "provenance": []
    },
    "kernelspec": {
      "display_name": "Python 3",
      "name": "python3"
    },
    "language_info": {
      "codemirror_mode": {
        "name": "ipython",
        "version": 3
      },
      "file_extension": ".py",
      "mimetype": "text/x-python",
      "name": "python",
      "nbconvert_exporter": "python",
      "pygments_lexer": "ipython3",
      "version": "3.11.0"
    }
  },
  "nbformat": 4,
  "nbformat_minor": 0
}
